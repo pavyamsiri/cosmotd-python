{
 "cells": [
  {
   "cell_type": "code",
   "execution_count": 1,
   "metadata": {},
   "outputs": [],
   "source": [
    "from sympy import *"
   ]
  },
  {
   "cell_type": "code",
   "execution_count": 2,
   "metadata": {},
   "outputs": [],
   "source": [
    "\"\"\"\n",
    "Pentavac model potential\n",
    "\"\"\"\n",
    "\n",
    "phi1 = Symbol(\"phi1\")\n",
    "phi2 = Symbol(\"phi2\")\n",
    "phi3 = Symbol(\"phi3\")\n",
    "phi4 = Symbol(\"phi4\")\n",
    "epsilon = Symbol(\"epsilon\")\n",
    "\n",
    "potential = 1/4 * (phi1**2 + phi2**2 - 1)**2 + 1/4 * (phi3**2 + phi4**2 - 1)**2\n",
    "potential += epsilon * (sqrt(phi3**2 + phi4**2) * (phi3 * (phi1**2 - phi2**2) - 2*phi1*phi2*phi4))\n",
    "potential += epsilon * (sqrt(phi1**2 + phi2**2) * (phi1 * (phi3**2 - phi4**2) + 2*phi2*phi3*phi4))"
   ]
  },
  {
   "cell_type": "code",
   "execution_count": 3,
   "metadata": {},
   "outputs": [
    {
     "name": "stdout",
     "output_type": "stream",
     "text": [
      "(epsilon*phi1*(phi1*(phi3**2 - phi4**2) + 2*phi2*phi3*phi4) + sqrt(phi1**2 + phi2**2)*(epsilon*sqrt(phi1**2 + phi2**2)*(phi3**2 - phi4**2) + 2*epsilon*sqrt(phi3**2 + phi4**2)*(phi1*phi3 - phi2*phi4) + 1.0*phi1*(phi1**2 + phi2**2 - 1)))/sqrt(phi1**2 + phi2**2)\n"
     ]
    }
   ],
   "source": [
    "# phi1\n",
    "print(simplify(diff(potential, phi1)))"
   ]
  },
  {
   "cell_type": "code",
   "execution_count": 4,
   "metadata": {},
   "outputs": [
    {
     "name": "stdout",
     "output_type": "stream",
     "text": [
      "(epsilon*phi2*(phi1*(phi3**2 - phi4**2) + 2*phi2*phi3*phi4) + sqrt(phi1**2 + phi2**2)*(2*epsilon*phi3*phi4*sqrt(phi1**2 + phi2**2) - 2*epsilon*sqrt(phi3**2 + phi4**2)*(phi1*phi4 + phi2*phi3) + 1.0*phi2*(phi1**2 + phi2**2 - 1)))/sqrt(phi1**2 + phi2**2)\n"
     ]
    }
   ],
   "source": [
    "# phi2\n",
    "print(simplify(diff(potential, phi2)))"
   ]
  },
  {
   "cell_type": "code",
   "execution_count": 5,
   "metadata": {},
   "outputs": [
    {
     "name": "stdout",
     "output_type": "stream",
     "text": [
      "(-epsilon*phi3*(2*phi1*phi2*phi4 - phi3*(phi1**2 - phi2**2)) + sqrt(phi3**2 + phi4**2)*(epsilon*(phi1**2 - phi2**2)*sqrt(phi3**2 + phi4**2) + 2*epsilon*sqrt(phi1**2 + phi2**2)*(phi1*phi3 + phi2*phi4) + 1.0*phi3*(phi3**2 + phi4**2 - 1)))/sqrt(phi3**2 + phi4**2)\n"
     ]
    }
   ],
   "source": [
    "# phi3\n",
    "print(simplify(diff(potential, phi3)))"
   ]
  },
  {
   "cell_type": "code",
   "execution_count": 6,
   "metadata": {},
   "outputs": [
    {
     "name": "stdout",
     "output_type": "stream",
     "text": [
      "(-epsilon*phi4*(2*phi1*phi2*phi4 - phi3*(phi1**2 - phi2**2)) + sqrt(phi3**2 + phi4**2)*(-2*epsilon*phi1*phi2*sqrt(phi3**2 + phi4**2) - 2*epsilon*sqrt(phi1**2 + phi2**2)*(phi1*phi4 - phi2*phi3) + 1.0*phi4*(phi3**2 + phi4**2 - 1)))/sqrt(phi3**2 + phi4**2)\n"
     ]
    }
   ],
   "source": [
    "# phi4\n",
    "print(simplify(diff(potential, phi4)))"
   ]
  },
  {
   "cell_type": "code",
   "execution_count": null,
   "metadata": {},
   "outputs": [],
   "source": []
  }
 ],
 "metadata": {
  "interpreter": {
   "hash": "a22997b3c3d93c8a6baded0673b54027366ecb09a592048fe51a125fc5089cd9"
  },
  "kernelspec": {
   "display_name": "Python 3.10.2 ('honours')",
   "language": "python",
   "name": "python3"
  },
  "language_info": {
   "codemirror_mode": {
    "name": "ipython",
    "version": 3
   },
   "file_extension": ".py",
   "mimetype": "text/x-python",
   "name": "python",
   "nbconvert_exporter": "python",
   "pygments_lexer": "ipython3",
   "version": "3.10.2"
  },
  "orig_nbformat": 4
 },
 "nbformat": 4,
 "nbformat_minor": 2
}
