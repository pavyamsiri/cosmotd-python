{
 "cells": [
  {
   "cell_type": "markdown",
   "metadata": {},
   "source": [
    "# Potentials #\n",
    "\n",
    "This notebook is used to plot the potential of companion axion models."
   ]
  },
  {
   "cell_type": "code",
   "execution_count": null,
   "metadata": {},
   "outputs": [],
   "source": [
    "from potential import *\n",
    "from tqdm import tqdm"
   ]
  },
  {
   "cell_type": "code",
   "execution_count": null,
   "metadata": {},
   "outputs": [],
   "source": [
    "# Generate models with integer colour anomaly coefficients ranging from 1 to 3.\n",
    "model_configs = generate_models(1, 3)\n",
    "\n",
    "# Plot the potential of the above models and save as pngs\n",
    "for (n, n_prime, m, m_prime) in tqdm(model_configs):\n",
    "    current_fig, _ = plot_axion_potential_phase_only(\n",
    "        n, n_prime, m, m_prime, 0.025, 0.04, num_samples=2000, num_levels=15\n",
    "    )\n",
    "    current_fig.savefig(f\"N{n}{n_prime}{m}{m_prime} Companion Axion Potential.png\")\n",
    "    plt.close(current_fig)"
   ]
  },
  {
   "cell_type": "code",
   "execution_count": null,
   "metadata": {},
   "outputs": [],
   "source": [
    "# Generate models with integer colour anomaly coefficients ranging from 1 to 3.\n",
    "model_configs = generate_models(1, 3)\n",
    "\n",
    "# Display buffer so progress bar works\n",
    "display_strings = []\n",
    "\n",
    "for (n, n_prime, m, m_prime) in tqdm(model_configs):\n",
    "    # Get the number of unique minima\n",
    "    minima_count = count_unique_minima(n, n_prime, m, m_prime, 0.025, 1, num_samples=2000, tolerance=0.3)\n",
    "    display_strings.append(f\"N{n}{n_prime}{m}{m_prime} has {minima_count} degenerate minima\")\n",
    "\n",
    "print(*display_strings, sep=\"\\n\")"
   ]
  },
  {
   "cell_type": "code",
   "execution_count": null,
   "metadata": {},
   "outputs": [],
   "source": []
  }
 ],
 "metadata": {
  "kernelspec": {
   "display_name": "Python 3.10.2 ('honours')",
   "language": "python",
   "name": "python3"
  },
  "language_info": {
   "codemirror_mode": {
    "name": "ipython",
    "version": 3
   },
   "file_extension": ".py",
   "mimetype": "text/x-python",
   "name": "python",
   "nbconvert_exporter": "python",
   "pygments_lexer": "ipython3",
   "version": "3.10.2"
  },
  "orig_nbformat": 4,
  "vscode": {
   "interpreter": {
    "hash": "c0a96131aabe2583d9c3abb62b06c5772221bd7af478d25ee32d59d849181aeb"
   }
  }
 },
 "nbformat": 4,
 "nbformat_minor": 2
}
