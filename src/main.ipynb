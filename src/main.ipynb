{
 "cells": [
  {
   "cell_type": "markdown",
   "metadata": {},
   "source": [
    "# Plotting #\n",
    "\n",
    "This notebook can be used to plot and create videos of field simulations."
   ]
  },
  {
   "cell_type": "code",
   "execution_count": null,
   "metadata": {},
   "outputs": [],
   "source": [
    "\n",
    "# Auto-reload internal modules\n",
    "%load_ext autoreload\n",
    "%autoreload 2\n",
    "\n",
    "# External modules\n",
    "import numpy as np\n",
    "# Internal modules\n",
    "from cosmotd.domain_walls import plot_domain_wall_simulation\n",
    "from cosmotd.cosmic_strings import plot_cosmic_string_simulation\n",
    "from cosmotd.charged_domain_walls import plot_charged_domain_wall_simulation\n",
    "from cosmotd.pentavac import plot_pentavac_simulation\n",
    "from cosmotd.single_axion import plot_single_axion_simulation\n",
    "from cosmotd.companion_axion import plot_companion_axion_simulation\n",
    "from cosmotd.plot import *\n",
    "from cosmotd.parameters import *"
   ]
  },
  {
   "cell_type": "code",
   "execution_count": null,
   "metadata": {},
   "outputs": [],
   "source": [
    "\"\"\"Simulation Parameters\"\"\"\n",
    "\n",
    "# Size of simulation grid\n",
    "N = 50\n",
    "# Model parameters\n",
    "beta = 1\n",
    "eta_phi = 1\n",
    "eta_sigma = np.sqrt(3) / 2\n",
    "lam_phi = 2\n",
    "lam_sigma = 2\n",
    "charge_density = 0.1\n",
    "# RNG seed\n",
    "seed = 486761876\n",
    "# Run time\n",
    "run_time = None\n",
    "# Plotter\n",
    "plotter = MplNotebookPlotter"
   ]
  },
  {
   "cell_type": "code",
   "execution_count": null,
   "metadata": {
    "scrolled": false
   },
   "outputs": [],
   "source": [
    "%%time\n",
    "\"\"\"Domain walls\"\"\"\n",
    "# file_name = \"domain_walls_M256_N256_np20228.ctdd\"\n",
    "file_name = None\n",
    "plot_domain_wall_simulation(256, 256, DX, DT, ALPHA_2D, eta_phi, RADIATION_ERA, 5, MplMultiPlotter, 4000, file_name, 20228)"
   ]
  },
  {
   "cell_type": "code",
   "execution_count": null,
   "metadata": {},
   "outputs": [],
   "source": [
    "%%time\n",
    "\"\"\"Cosmic strings\"\"\"\n",
    "# file_name = \"cosmic_strings_M200_N200_np20228.ctdd\"\n",
    "file_name = None\n",
    "plot_cosmic_string_simulation(256, 256, DX, DT, ALPHA_2D, 1, RADIATION_ERA, 5, MplMultiPlotter, 4000, file_name, 20228)"
   ]
  },
  {
   "cell_type": "code",
   "execution_count": null,
   "metadata": {},
   "outputs": [],
   "source": [
    "%%time\n",
    "\"\"\"Charged domain walls\"\"\"\n",
    "# file_name = \"charged_domain_walls_rho0.1_M200_N200_np23213241.ctdd\"\n",
    "file_name = None\n",
    "plot_charged_domain_wall_simulation(\n",
    "    200,\n",
    "    200,\n",
    "    DX,\n",
    "    DT,\n",
    "    ALPHA_2D,\n",
    "    beta,\n",
    "    eta_phi,\n",
    "    eta_sigma,\n",
    "    lam_phi,\n",
    "    lam_sigma,\n",
    "    charge_density,\n",
    "    RADIATION_ERA,\n",
    "    Plotter,\n",
    "    1,\n",
    "    file_name,\n",
    "    20228\n",
    ")"
   ]
  },
  {
   "cell_type": "code",
   "execution_count": null,
   "metadata": {},
   "outputs": [],
   "source": [
    "%%time\n",
    "\"\"\"Pentavac model\"\"\"\n",
    "file_name = None\n",
    "epsilon = 0.1\n",
    "plot_pentavac_simulation(200, 200, DX, DT, ALPHA_2D, epsilon, RADIATION_ERA, Plotter, run_time, file_name, 20228)"
   ]
  },
  {
   "cell_type": "code",
   "execution_count": null,
   "metadata": {},
   "outputs": [],
   "source": [
    "%%time\n",
    "\"\"\"Single axion model\"\"\"\n",
    "file_name = None\n",
    "lam = 5\n",
    "color_anomaly = 1\n",
    "K = 0.025\n",
    "t0 = 75\n",
    "growth = 2\n",
    "plot_single_axion_simulation(\n",
    "    256,\n",
    "    256,\n",
    "    DX,\n",
    "    DT,\n",
    "    ALPHA_2D,\n",
    "    eta_phi,\n",
    "    RADIATION_ERA,\n",
    "    lam,\n",
    "    color_anomaly,\n",
    "    K,\n",
    "    t0,\n",
    "    growth,\n",
    "    MplMultiPlotter,\n",
    "    1500,\n",
    "    file_name,\n",
    "    20228)"
   ]
  },
  {
   "cell_type": "code",
   "execution_count": null,
   "metadata": {},
   "outputs": [],
   "source": [
    "%%time\n",
    "\"\"\"Companion axion model\"\"\"\n",
    "# file_name = \"companion_axion_M300_N300_np20228.ctdd\"\n",
    "file_name = None\n",
    "lam = 5\n",
    "# n = 3\n",
    "# n_prime = 1 / 2\n",
    "# m = 13 / 2\n",
    "# m_prime = 3 / 2\n",
    "n = 2\n",
    "n_prime = 2\n",
    "m = 2\n",
    "m_prime = 1\n",
    "kappa = 0.04\n",
    "# This the original value of K (0.001 * lam = 0.005), however it seems to produce numerical artifacts\n",
    "# K = 0.001 * lam\n",
    "# Testing values of K\n",
    "K = 0.025\n",
    "t0 = 75\n",
    "n_growth = 2\n",
    "m_growth = 2\n",
    "s0 = t0\n",
    "plot_companion_axion_simulation(\n",
    "    256,\n",
    "    256,\n",
    "    DX,\n",
    "    DT,\n",
    "    ALPHA_2D,\n",
    "    eta_phi,\n",
    "    RADIATION_ERA,\n",
    "    lam,\n",
    "    n,\n",
    "    n_prime,\n",
    "    m,\n",
    "    m_prime,\n",
    "    K,\n",
    "    kappa,\n",
    "    t0,\n",
    "    s0,\n",
    "    n_growth,\n",
    "    m_growth,\n",
    "    MplMultiPlotter,\n",
    "    3000,\n",
    "    file_name,\n",
    "    seed=20228)"
   ]
  },
  {
   "cell_type": "code",
   "execution_count": null,
   "metadata": {},
   "outputs": [],
   "source": []
  }
 ],
 "metadata": {
  "interpreter": {
   "hash": "c0a96131aabe2583d9c3abb62b06c5772221bd7af478d25ee32d59d849181aeb"
  },
  "kernelspec": {
   "display_name": "Python 3 (ipykernel)",
   "language": "python",
   "name": "python3"
  },
  "language_info": {
   "codemirror_mode": {
    "name": "ipython",
    "version": 3
   },
   "file_extension": ".py",
   "mimetype": "text/x-python",
   "name": "python",
   "nbconvert_exporter": "python",
   "pygments_lexer": "ipython3",
   "version": "3.10.2"
  }
 },
 "nbformat": 4,
 "nbformat_minor": 2
}
