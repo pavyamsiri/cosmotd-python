{
 "cells": [
  {
   "cell_type": "code",
   "execution_count": 2,
   "metadata": {},
   "outputs": [],
   "source": [
    "# Auto-reload internal modules\n",
    "%load_ext autoreload\n",
    "%autoreload 2\n",
    "\n",
    "# External modules\n",
    "import numpy as np\n",
    "\n",
    "# Internal modules\n",
    "from cosmotd.domain_walls import plot_domain_wall_simulation\n",
    "from cosmotd.cosmic_strings import plot_cosmic_string_simulation\n",
    "from cosmotd.charged_domain_walls import plot_charged_domain_wall_simulation\n",
    "from cosmotd.pentavac import plot_pentavac_simulation\n",
    "from cosmotd.single_axion import plot_single_axion_simulation\n",
    "from cosmotd.companion_axion import plot_companion_axion_simulation\n",
    "from cosmotd.plot import *\n",
    "from cosmotd.parameters import *"
   ]
  },
  {
   "cell_type": "code",
   "execution_count": 3,
   "metadata": {},
   "outputs": [],
   "source": [
    "# Size of simulation grid\n",
    "N = 50\n",
    "# Model parameters\n",
    "beta = 1\n",
    "eta_phi = 1\n",
    "eta_sigma = np.sqrt(3) / 2\n",
    "lam_phi = 2\n",
    "lam_sigma = 2\n",
    "charge_density = 0.1\n",
    "# RNG seed\n",
    "seed = 486761876\n",
    "# Run time\n",
    "run_time = None\n",
    "# Plotter\n",
    "plotter = MplNotebookPlotter"
   ]
  },
  {
   "cell_type": "code",
   "execution_count": null,
   "metadata": {
    "scrolled": false
   },
   "outputs": [],
   "source": [
    "%%time\n",
    "# Domain walls simulation\n",
    "# file_name = \"domain_wall_M200_N200_np23213241.ctdd\"\n",
    "file_name = None\n",
    "plot_domain_wall_simulation(200, 200, DX, DT, ALPHA_2D, eta_phi, RADIATION_ERA, 5, MplNotebookPlotter, run_time, file_name, seed)"
   ]
  },
  {
   "cell_type": "code",
   "execution_count": null,
   "metadata": {},
   "outputs": [],
   "source": [
    "%%time\n",
    "# Cosmic strings simulation\n",
    "file_name = None\n",
    "plot_cosmic_string_simulation(200, 200, DX, DT, ALPHA_2D, eta_phi, RADIATION_ERA, 5, MplNotebookPlotter, run_time, file_name, seed)"
   ]
  },
  {
   "cell_type": "code",
   "execution_count": 4,
   "metadata": {},
   "outputs": [
    {
     "name": "stderr",
     "output_type": "stream",
     "text": [
      "100%|██████████| 1001/1001 [01:19<00:00, 12.65it/s]"
     ]
    },
    {
     "name": "stdout",
     "output_type": "stream",
     "text": [
      "CPU times: total: 6.75 s\n",
      "Wall time: 1min 19s\n"
     ]
    },
    {
     "name": "stderr",
     "output_type": "stream",
     "text": [
      "\n"
     ]
    }
   ],
   "source": [
    "%%time\n",
    "# Charged domain walls simulation\n",
    "# file_name = \"charged_domain_walls_rho0.1_M200_N200_np23213241.ctdd\"\n",
    "file_name = None\n",
    "plot_charged_domain_wall_simulation(\n",
    "    200,\n",
    "    200,\n",
    "    DX,\n",
    "    DT,\n",
    "    ALPHA_2D,\n",
    "    beta,\n",
    "    eta_phi,\n",
    "    eta_sigma,\n",
    "    lam_phi,\n",
    "    lam_sigma,\n",
    "    charge_density,\n",
    "    RADIATION_ERA,\n",
    "    MplMultiPlotter,\n",
    "    run_time,\n",
    "    file_name,\n",
    "    seed\n",
    ")"
   ]
  },
  {
   "cell_type": "code",
   "execution_count": 3,
   "metadata": {},
   "outputs": [
    {
     "name": "stderr",
     "output_type": "stream",
     "text": [
      "100%|██████████| 1001/1001 [02:22<00:00,  7.03it/s]"
     ]
    },
    {
     "name": "stdout",
     "output_type": "stream",
     "text": [
      "CPU times: total: 43.9 s\n",
      "Wall time: 2min 23s\n"
     ]
    },
    {
     "name": "stderr",
     "output_type": "stream",
     "text": [
      "\n"
     ]
    }
   ],
   "source": [
    "%%time\n",
    "# Pentavac model simulation\n",
    "file_name = None\n",
    "epsilon = 0.1\n",
    "plot_pentavac_simulation(200, 200, DX, DT, ALPHA_2D, epsilon, RADIATION_ERA, MplMultiPlotter, run_time, file_name, seed)"
   ]
  },
  {
   "cell_type": "code",
   "execution_count": 3,
   "metadata": {},
   "outputs": [
    {
     "name": "stderr",
     "output_type": "stream",
     "text": [
      "100%|██████████| 6001/6001 [10:03<00:00,  9.94it/s]"
     ]
    },
    {
     "name": "stdout",
     "output_type": "stream",
     "text": [
      "CPU times: total: 2min 34s\n",
      "Wall time: 10min 4s\n"
     ]
    },
    {
     "name": "stderr",
     "output_type": "stream",
     "text": [
      "\n"
     ]
    }
   ],
   "source": [
    "%%time\n",
    "file_name = None\n",
    "# Single axion\n",
    "lam = 5\n",
    "color_anomaly = 3\n",
    "K = 0.001 * lam\n",
    "t0 = 750 * DT\n",
    "growth = 2\n",
    "plot_single_axion_simulation(300, 300, DX, DT, ALPHA_2D, eta_phi, RADIATION_ERA, lam, color_anomaly, K, t0, growth, MplMultiPlotter, 6000, file_name, seed)"
   ]
  },
  {
   "cell_type": "code",
   "execution_count": 5,
   "metadata": {},
   "outputs": [
    {
     "name": "stderr",
     "output_type": "stream",
     "text": []
    },
    {
     "ename": "KeyboardInterrupt",
     "evalue": "",
     "output_type": "error",
     "traceback": [
      "\u001b[1;31m---------------------------------------------------------------------------\u001b[0m",
      "\u001b[1;31mKeyboardInterrupt\u001b[0m                         Traceback (most recent call last)",
      "File \u001b[1;32m<timed exec>:20\u001b[0m, in \u001b[0;36m<module>\u001b[1;34m\u001b[0m\n",
      "File \u001b[1;32me:\\UniversityGitHub\\2022HonoursProject\\src\\cosmotd\\companion_axion.py:733\u001b[0m, in \u001b[0;36mplot_companion_axion_simulation\u001b[1;34m(M, N, dx, dt, alpha, eta, era, lam, n, n_prime, m, m_prime, K, kappa, t0, s0, n_growth, m_growth, plot_backend, run_time, file_name, seed)\u001b[0m\n\u001b[0;32m    <a href='file:///e%3A/UniversityGitHub/2022HonoursProject/src/cosmotd/companion_axion.py?line=730'>731</a>\u001b[0m \u001b[39m# Identify strings\u001b[39;00m\n\u001b[0;32m    <a href='file:///e%3A/UniversityGitHub/2022HonoursProject/src/cosmotd/companion_axion.py?line=731'>732</a>\u001b[0m phi_strings \u001b[39m=\u001b[39m find_cosmic_strings_brute_force_small(phi_real, phi_imaginary)\n\u001b[1;32m--> <a href='file:///e%3A/UniversityGitHub/2022HonoursProject/src/cosmotd/companion_axion.py?line=732'>733</a>\u001b[0m positive_phi_strings \u001b[39m=\u001b[39m np\u001b[39m.\u001b[39;49mnonzero(phi_strings \u001b[39m>\u001b[39;49m \u001b[39m0\u001b[39;49m)\n\u001b[0;32m    <a href='file:///e%3A/UniversityGitHub/2022HonoursProject/src/cosmotd/companion_axion.py?line=733'>734</a>\u001b[0m negative_phi_strings \u001b[39m=\u001b[39m np\u001b[39m.\u001b[39mnonzero(phi_strings \u001b[39m<\u001b[39m \u001b[39m0\u001b[39m)\n\u001b[0;32m    <a href='file:///e%3A/UniversityGitHub/2022HonoursProject/src/cosmotd/companion_axion.py?line=734'>735</a>\u001b[0m psi_strings \u001b[39m=\u001b[39m find_cosmic_strings_brute_force_small(psi_real, psi_imaginary)\n",
      "File \u001b[1;32m<__array_function__ internals>:2\u001b[0m, in \u001b[0;36mnonzero\u001b[1;34m(*args, **kwargs)\u001b[0m\n",
      "\u001b[1;31mKeyboardInterrupt\u001b[0m: "
     ]
    },
    {
     "name": "stderr",
     "output_type": "stream",
     "text": [
      "  5%|▍         | 278/6001 [00:33<07:27, 12.78it/s]"
     ]
    }
   ],
   "source": [
    "%%time\n",
    "file_name = None\n",
    "# file_name = \"companion_axion_M200_N200_np23213241.ctdd\"\n",
    "# Companion axion\n",
    "lam = 5\n",
    "# n = 3\n",
    "# n_prime = 1 / 2\n",
    "# m = 13 / 2\n",
    "# m_prime = 3 / 2\n",
    "n = 3\n",
    "n_prime = 1\n",
    "m = 1\n",
    "m_prime = 1\n",
    "kappa = 0.04\n",
    "K = 0.005 * lam\n",
    "t0 = 500 * DT\n",
    "n_growth = 2\n",
    "m_growth = 2\n",
    "s0 = t0\n",
    "for _ in range(5):\n",
    "    plot_companion_axion_simulation(300, 300, DX, DT, ALPHA_2D, eta_phi, RADIATION_ERA, lam, n, n_prime, m, m_prime, K, kappa, t0, s0, n_growth, m_growth, Plotter, 6000, file_name, None)"
   ]
  },
  {
   "cell_type": "code",
   "execution_count": null,
   "metadata": {},
   "outputs": [],
   "source": []
  }
 ],
 "metadata": {
  "interpreter": {
   "hash": "c0a96131aabe2583d9c3abb62b06c5772221bd7af478d25ee32d59d849181aeb"
  },
  "kernelspec": {
   "display_name": "Python 3 (ipykernel)",
   "language": "python",
   "name": "python3"
  },
  "language_info": {
   "codemirror_mode": {
    "name": "ipython",
    "version": 3
   },
   "file_extension": ".py",
   "mimetype": "text/x-python",
   "name": "python",
   "nbconvert_exporter": "python",
   "pygments_lexer": "ipython3",
   "version": "3.10.2"
  }
 },
 "nbformat": 4,
 "nbformat_minor": 2
}
