{
 "cells": [
  {
   "cell_type": "code",
   "execution_count": 2,
   "metadata": {},
   "outputs": [],
   "source": [
    "# Auto-reload internal modules\n",
    "%load_ext autoreload\n",
    "%autoreload 2\n",
    "\n",
    "# External modules\n",
    "import numpy as np\n",
    "\n",
    "# Internal modules\n",
    "from cosmotd.domain_walls import plot_domain_wall_simulation\n",
    "from cosmotd.cosmic_strings import plot_cosmic_string_simulation\n",
    "from cosmotd.charged_domain_walls import plot_charged_domain_wall_simulation\n",
    "from cosmotd.pentavac import plot_pentavac_simulation\n",
    "from cosmotd.plot import *\n",
    "from cosmotd.parameters import *"
   ]
  },
  {
   "cell_type": "code",
   "execution_count": 9,
   "metadata": {},
   "outputs": [],
   "source": [
    "\n",
    "# Size of simulation grid\n",
    "N = 50\n",
    "# Model parameters\n",
    "beta = 1\n",
    "eta_phi = 1\n",
    "eta_sigma = np.sqrt(3) / 2\n",
    "lam_phi = 2\n",
    "lam_sigma = 2\n",
    "charge_density = 0.1\n",
    "# RNG seed\n",
    "seed = 23213241\n",
    "# Run time\n",
    "run_time = None\n",
    "# Plotter\n",
    "plotter = MplMp4Plotter"
   ]
  },
  {
   "cell_type": "code",
   "execution_count": 4,
   "metadata": {},
   "outputs": [
    {
     "name": "stderr",
     "output_type": "stream",
     "text": [
      "100%|██████████| 251/251 [00:00<00:00, 341.35it/s]\n"
     ]
    }
   ],
   "source": [
    "# Domain walls simulation\n",
    "plot_domain_wall_simulation(N, DX, DT, ALPHA_2D, eta_phi, RADIATION_ERA, 5, plotter, run_time, seed)"
   ]
  },
  {
   "cell_type": "code",
   "execution_count": 5,
   "metadata": {},
   "outputs": [
    {
     "name": "stderr",
     "output_type": "stream",
     "text": [
      "100%|██████████| 251/251 [00:01<00:00, 174.22it/s]\n"
     ]
    }
   ],
   "source": [
    "# Cosmic strings simulation\n",
    "plot_cosmic_string_simulation(N, DX, DT, ALPHA_2D, eta_phi, RADIATION_ERA, 5, plotter, run_time, seed)"
   ]
  },
  {
   "cell_type": "code",
   "execution_count": 8,
   "metadata": {},
   "outputs": [
    {
     "name": "stderr",
     "output_type": "stream",
     "text": [
      "100%|██████████| 251/251 [00:00<00:00, 3481.74it/s]\n"
     ]
    }
   ],
   "source": [
    "# Charged domain walls simulation\n",
    "plot_charged_domain_wall_simulation(N, DX, DT, ALPHA_2D, beta, eta_phi, eta_sigma, lam_phi, lam_sigma, charge_density, RADIATION_ERA, plotter, run_time, seed)"
   ]
  },
  {
   "cell_type": "code",
   "execution_count": 11,
   "metadata": {},
   "outputs": [
    {
     "name": "stderr",
     "output_type": "stream",
     "text": [
      "100%|██████████| 251/251 [02:07<00:00,  1.96it/s]\n"
     ]
    }
   ],
   "source": [
    "# Pentavac model simulation with X-type and Y-type junctions\n",
    "epsilon = -0.1\n",
    "plot_pentavac_simulation(N, DX, DT, ALPHA_2D, epsilon, RADIATION_ERA, plotter, run_time, seed)"
   ]
  },
  {
   "cell_type": "code",
   "execution_count": null,
   "metadata": {},
   "outputs": [],
   "source": []
  }
 ],
 "metadata": {
  "interpreter": {
   "hash": "a22997b3c3d93c8a6baded0673b54027366ecb09a592048fe51a125fc5089cd9"
  },
  "kernelspec": {
   "display_name": "Python 3 (ipykernel)",
   "language": "python",
   "name": "python3"
  },
  "language_info": {
   "codemirror_mode": {
    "name": "ipython",
    "version": 3
   },
   "file_extension": ".py",
   "mimetype": "text/x-python",
   "name": "python",
   "nbconvert_exporter": "python",
   "pygments_lexer": "ipython3",
   "version": "3.10.2"
  }
 },
 "nbformat": 4,
 "nbformat_minor": 2
}
