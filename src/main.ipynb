{
 "cells": [
  {
   "cell_type": "code",
   "execution_count": 1,
   "metadata": {},
   "outputs": [],
   "source": [
    "# Auto-reload internal modules\n",
    "%load_ext autoreload\n",
    "%autoreload 2\n",
    "\n",
    "# External modules\n",
    "import numpy as np\n",
    "\n",
    "# Internal modules\n",
    "from cosmotd.domain_walls import plot_domain_wall_simulation\n",
    "from cosmotd.cosmic_strings import plot_cosmic_string_simulation\n",
    "from cosmotd.charged_domain_walls import plot_charged_domain_wall_simulation\n",
    "from cosmotd.pentavac import plot_pentavac_simulation\n",
    "from cosmotd.single_axion import plot_single_axion_simulation\n",
    "from cosmotd.companion_axion import plot_companion_axion_simulation\n",
    "from cosmotd.plot import *\n",
    "from cosmotd.parameters import *"
   ]
  },
  {
   "cell_type": "code",
   "execution_count": 2,
   "metadata": {},
   "outputs": [],
   "source": [
    "# Size of simulation grid\n",
    "N = 50\n",
    "# Model parameters\n",
    "beta = 1\n",
    "eta_phi = 1\n",
    "eta_sigma = np.sqrt(3) / 2\n",
    "lam_phi = 2\n",
    "lam_sigma = 2\n",
    "charge_density = 0.1\n",
    "# RNG seed\n",
    "seed = 23213241\n",
    "# Run time\n",
    "run_time = None\n",
    "# Plotter\n",
    "plotter = MplNotebookPlotter"
   ]
  },
  {
   "cell_type": "code",
   "execution_count": 8,
   "metadata": {
    "scrolled": false
   },
   "outputs": [
    {
     "name": "stderr",
     "output_type": "stream",
     "text": [
      "100%|██████████| 1001/1001 [00:15<00:00, 66.45it/s]\n"
     ]
    }
   ],
   "source": [
    "# Domain walls simulation\n",
    "plot_domain_wall_simulation(200, DX, DT, ALPHA_2D, eta_phi, RADIATION_ERA, 5, MplMultiPlotter, run_time, seed)"
   ]
  },
  {
   "cell_type": "code",
   "execution_count": null,
   "metadata": {},
   "outputs": [],
   "source": [
    "# Cosmic strings simulation\n",
    "plot_cosmic_string_simulation(N, DX, DT, ALPHA_2D, eta_phi, RADIATION_ERA, 5, MplNotebookPlotter, run_time, seed)"
   ]
  },
  {
   "cell_type": "code",
   "execution_count": null,
   "metadata": {},
   "outputs": [],
   "source": [
    "# Charged domain walls simulation\n",
    "plot_charged_domain_wall_simulation(\n",
    "    N,\n",
    "    DX,\n",
    "    DT,\n",
    "    ALPHA_2D,\n",
    "    beta,\n",
    "    eta_phi,\n",
    "    eta_sigma,\n",
    "    lam_phi,\n",
    "    lam_sigma,\n",
    "    charge_density,\n",
    "    RADIATION_ERA,\n",
    "    MplNotebookPlotter,\n",
    "    run_time,\n",
    "    seed\n",
    ")"
   ]
  },
  {
   "cell_type": "code",
   "execution_count": null,
   "metadata": {},
   "outputs": [],
   "source": [
    "# Pentavac model simulation\n",
    "epsilon = 0.1\n",
    "plot_pentavac_simulation(N, N, DX, DT, ALPHA_2D, epsilon, RADIATION_ERA, plotter, run_time, seed)"
   ]
  },
  {
   "cell_type": "code",
   "execution_count": 12,
   "metadata": {},
   "outputs": [
    {
     "name": "stderr",
     "output_type": "stream",
     "text": [
      "100%|███████████████████████████████████████████████████████████████████████████████████████████████████████████████████████████████████████████████████████████████████████████████████████████████████████████████████████████| 1001/1001 [00:14<00:00, 67.41it/s]\n"
     ]
    }
   ],
   "source": [
    "# Single axion\n",
    "lam = 5\n",
    "color_anomaly = 1\n",
    "K = 0.001 * lam\n",
    "turn_on_time = 100\n",
    "plot_single_axion_simulation(200, DX, DT, ALPHA_2D, eta_phi, RADIATION_ERA, lam, color_anomaly, K, turn_on_time, MplMultiPlotter, run_time, seed)"
   ]
  },
  {
   "cell_type": "code",
   "execution_count": 24,
   "metadata": {},
   "outputs": [
    {
     "name": "stderr",
     "output_type": "stream",
     "text": [
      "100%|███████████████████████████████████████████████████████████████████████████████████████████████████████████████████████████████████████████████████████████████████████████████████████████████████████████████████████████| 1001/1001 [01:01<00:00, 16.28it/s]\n"
     ]
    }
   ],
   "source": [
    "# Companion axion\n",
    "lam = 5\n",
    "n = 3\n",
    "n_prime = 1 / 2\n",
    "m = 13 / 2\n",
    "m_prime = 3 / 2\n",
    "K = 0.5 * lam\n",
    "kappa = 0.04\n",
    "turn_on_time = 100\n",
    "plot_companion_axion_simulation(200, DX, DT, ALPHA_2D, eta_phi, RADIATION_ERA, lam, n, n_prime, m, m_prime, K, kappa, turn_on_time, MplMultiPlotter, run_time, seed)"
   ]
  },
  {
   "cell_type": "code",
   "execution_count": null,
   "metadata": {},
   "outputs": [],
   "source": []
  }
 ],
 "metadata": {
  "interpreter": {
   "hash": "a22997b3c3d93c8a6baded0673b54027366ecb09a592048fe51a125fc5089cd9"
  },
  "kernelspec": {
   "display_name": "Python 3 (ipykernel)",
   "language": "python",
   "name": "python3"
  },
  "language_info": {
   "codemirror_mode": {
    "name": "ipython",
    "version": 3
   },
   "file_extension": ".py",
   "mimetype": "text/x-python",
   "name": "python",
   "nbconvert_exporter": "python",
   "pygments_lexer": "ipython3",
   "version": "3.10.2"
  }
 },
 "nbformat": 4,
 "nbformat_minor": 2
}
