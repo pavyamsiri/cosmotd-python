{
 "cells": [
  {
   "cell_type": "code",
   "execution_count": 1,
   "metadata": {},
   "outputs": [],
   "source": [
    "# Auto-reload internal modules\n",
    "%load_ext autoreload\n",
    "%autoreload 2\n",
    "\n",
    "# External modules\n",
    "import numpy as np\n",
    "\n",
    "# Internal modules\n",
    "from cosmotd.domain_walls import plot_domain_wall_simulation\n",
    "from cosmotd.cosmic_strings import plot_cosmic_string_simulation\n",
    "from cosmotd.charged_domain_walls import plot_charged_domain_wall_simulation\n",
    "from cosmotd.pentavac import plot_pentavac_simulation\n",
    "from cosmotd.companion_axion import plot_companion_axion_simulation\n",
    "from cosmotd.plot import *\n",
    "from cosmotd.parameters import *"
   ]
  },
  {
   "cell_type": "code",
   "execution_count": 2,
   "metadata": {},
   "outputs": [],
   "source": [
    "# Size of simulation grid\n",
    "N = 50\n",
    "# Model parameters\n",
    "beta = 1\n",
    "eta_phi = 1\n",
    "eta_sigma = np.sqrt(3) / 2\n",
    "lam_phi = 2\n",
    "lam_sigma = 2\n",
    "charge_density = 0.1\n",
    "# RNG seed\n",
    "seed = 23213241\n",
    "# Run time\n",
    "run_time = None\n",
    "# Plotter\n",
    "plotter = MplNotebookPlotter"
   ]
  },
  {
   "cell_type": "code",
   "execution_count": null,
   "metadata": {
    "scrolled": false
   },
   "outputs": [],
   "source": [
    "# Domain walls simulation\n",
    "plot_domain_wall_simulation(N, DX, DT, ALPHA_2D, eta_phi, RADIATION_ERA, 5, MplMultiPlotter, run_time, seed)"
   ]
  },
  {
   "cell_type": "code",
   "execution_count": null,
   "metadata": {},
   "outputs": [],
   "source": [
    "# Cosmic strings simulation\n",
    "plot_cosmic_string_simulation(N, DX, DT, ALPHA_2D, eta_phi, RADIATION_ERA, 5, plotter, run_time, seed)"
   ]
  },
  {
   "cell_type": "code",
   "execution_count": null,
   "metadata": {},
   "outputs": [],
   "source": [
    "# Charged domain walls simulation\n",
    "plot_charged_domain_wall_simulation(\n",
    "    N,\n",
    "    DX,\n",
    "    DT,\n",
    "    ALPHA_2D,\n",
    "    beta,\n",
    "    eta_phi,\n",
    "    eta_sigma,\n",
    "    lam_phi,\n",
    "    lam_sigma,\n",
    "    charge_density,\n",
    "    RADIATION_ERA,\n",
    "    MplNotebookPlotter,\n",
    "    run_time,\n",
    "    seed\n",
    ")"
   ]
  },
  {
   "cell_type": "code",
   "execution_count": null,
   "metadata": {},
   "outputs": [],
   "source": [
    "# Pentavac model simulation\n",
    "epsilon = 0.1\n",
    "plot_pentavac_simulation(N, N, DX, DT, ALPHA_2D, epsilon, RADIATION_ERA, plotter, run_time, seed)"
   ]
  },
  {
   "cell_type": "code",
   "execution_count": 6,
   "metadata": {},
   "outputs": [
    {
     "name": "stderr",
     "output_type": "stream",
     "text": [
      "100%|████████████████████████████████████████████████████████████████████████████████████████████████████████████████████████████████████████████████████████| 251/251 [05:34<00:00,  1.33s/it]\n",
      "ffmpeg version 4.2.4-1ubuntu0.1 Copyright (c) 2000-2020 the FFmpeg developers\n",
      "  built with gcc 9 (Ubuntu 9.3.0-10ubuntu2)\n",
      "  configuration: --prefix=/usr --extra-version=1ubuntu0.1 --toolchain=hardened --libdir=/usr/lib/x86_64-linux-gnu --incdir=/usr/include/x86_64-linux-gnu --arch=amd64 --enable-gpl --disable-stripping --enable-avresample --disable-filter=resample --enable-avisynth --enable-gnutls --enable-ladspa --enable-libaom --enable-libass --enable-libbluray --enable-libbs2b --enable-libcaca --enable-libcdio --enable-libcodec2 --enable-libflite --enable-libfontconfig --enable-libfreetype --enable-libfribidi --enable-libgme --enable-libgsm --enable-libjack --enable-libmp3lame --enable-libmysofa --enable-libopenjpeg --enable-libopenmpt --enable-libopus --enable-libpulse --enable-librsvg --enable-librubberband --enable-libshine --enable-libsnappy --enable-libsoxr --enable-libspeex --enable-libssh --enable-libtheora --enable-libtwolame --enable-libvidstab --enable-libvorbis --enable-libvpx --enable-libwavpack --enable-libwebp --enable-libx265 --enable-libxml2 --enable-libxvid --enable-libzmq --enable-libzvbi --enable-lv2 --enable-omx --enable-openal --enable-opencl --enable-opengl --enable-sdl2 --enable-libdc1394 --enable-libdrm --enable-libiec61883 --enable-nvenc --enable-chromaprint --enable-frei0r --enable-libx264 --enable-shared\n",
      "  libavutil      56. 31.100 / 56. 31.100\n",
      "  libavcodec     58. 54.100 / 58. 54.100\n",
      "  libavformat    58. 29.100 / 58. 29.100\n",
      "  libavdevice    58.  8.100 / 58.  8.100\n",
      "  libavfilter     7. 57.100 /  7. 57.100\n",
      "  libavresample   4.  0.  0 /  4.  0.  0\n",
      "  libswscale      5.  5.100 /  5.  5.100\n",
      "  libswresample   3.  5.100 /  3.  5.100\n",
      "  libpostproc    55.  5.100 / 55.  5.100\n",
      "Input #0, image2, from '/home/coloiros/Honours/Project/2022HonoursProject/src/cosmotd/plot/mpl_plotter/../../../data/plot_cache/frame_%d.png':\n",
      "  Duration: 00:00:37.65, start: 0.000000, bitrate: N/A\n",
      "    Stream #0:0: Video: png, rgba(pc), 640x960 [SAR 3937:3937 DAR 2:3], 20 fps, 20 tbr, 20 tbn, 20 tbc\n",
      "Stream mapping:\n",
      "  Stream #0:0 -> #0:0 (png (native) -> h264 (libx264))\n",
      "Press [q] to stop, [?] for help\n",
      "[libx264 @ 0x558ee197b100] using SAR=1/1\n",
      "[libx264 @ 0x558ee197b100] using cpu capabilities: MMX2 SSE2Fast SSSE3 SSE4.2 AVX FMA3 BMI2 AVX2\n",
      "[libx264 @ 0x558ee197b100] profile High, level 3.1\n",
      "[libx264 @ 0x558ee197b100] 264 - core 155 r2917 0a84d98 - H.264/MPEG-4 AVC codec - Copyleft 2003-2018 - http://www.videolan.org/x264.html - options: cabac=1 ref=3 deblock=1:0:0 analyse=0x3:0x113 me=hex subme=7 psy=1 psy_rd=1.00:0.00 mixed_ref=1 me_range=16 chroma_me=1 trellis=1 8x8dct=1 cqm=0 deadzone=21,11 fast_pskip=1 chroma_qp_offset=-2 threads=6 lookahead_threads=1 sliced_threads=0 nr=0 decimate=1 interlaced=0 bluray_compat=0 constrained_intra=0 bframes=3 b_pyramid=2 b_adapt=1 b_bias=0 direct=1 weightb=1 open_gop=0 weightp=2 keyint=250 keyint_min=20 scenecut=40 intra_refresh=0 rc_lookahead=40 rc=crf mbtree=1 crf=25.0 qcomp=0.60 qpmin=0 qpmax=69 qpstep=4 ip_ratio=1.40 aq=1:1.00\n",
      "Output #0, mp4, to '/home/coloiros/Honours/Project/2022HonoursProject/src/cosmotd/plot/mpl_plotter/../../../data/video_cache/simulation.mp4':\n",
      "  Metadata:\n",
      "    encoder         : Lavf58.29.100\n",
      "    Stream #0:0: Video: h264 (libx264) (avc1 / 0x31637661), yuv420p, 640x960 [SAR 1:1 DAR 2:3], q=-1--1, 20 fps, 10240 tbn, 20 tbc\n",
      "    Metadata:\n",
      "      encoder         : Lavc58.54.100 libx264\n",
      "    Side data:\n",
      "      cpb: bitrate max/min/avg: 0/0/0 buffer size: 0 vbv_delay: -1\n",
      "frame=  753 fps= 77 q=-1.0 Lsize=    2814kB time=00:00:37.50 bitrate= 614.7kbits/s speed=3.82x    \n",
      "video:2806kB audio:0kB subtitle:0kB other streams:0kB global headers:0kB muxing overhead: 0.276562%\n",
      "[libx264 @ 0x558ee197b100] frame I:4     Avg QP:20.84  size: 49820\n",
      "[libx264 @ 0x558ee197b100] frame P:252   Avg QP:22.86  size: 10215\n",
      "[libx264 @ 0x558ee197b100] frame B:497   Avg QP:16.76  size:   200\n",
      "[libx264 @ 0x558ee197b100] consecutive B-frames:  0.8%  0.8% 98.4%  0.0%\n",
      "[libx264 @ 0x558ee197b100] mb I  I16..4: 22.7% 45.9% 31.4%\n",
      "[libx264 @ 0x558ee197b100] mb P  I16..4:  0.3%  0.3%  0.4%  P16..4: 15.9%  7.7%  8.0%  0.0%  0.0%    skip:67.4%\n",
      "[libx264 @ 0x558ee197b100] mb B  I16..4:  0.0%  0.0%  0.0%  B16..8: 10.2%  0.0%  0.0%  direct: 0.0%  skip:89.7%  L0:35.5% L1:64.2% BI: 0.3%\n",
      "[libx264 @ 0x558ee197b100] 8x8 transform intra:40.0% inter:49.2%\n",
      "[libx264 @ 0x558ee197b100] coded y,uvDC,uvAC intra: 46.9% 46.4% 45.3% inter: 6.5% 8.2% 5.0%\n",
      "[libx264 @ 0x558ee197b100] i16 v,h,dc,p: 52% 27% 17%  4%\n",
      "[libx264 @ 0x558ee197b100] i8 v,h,dc,ddl,ddr,vr,hd,vl,hu: 46% 15% 26%  2%  2%  2%  2%  2%  3%\n",
      "[libx264 @ 0x558ee197b100] i4 v,h,dc,ddl,ddr,vr,hd,vl,hu: 43% 28% 17%  2%  2%  2%  2%  2%  2%\n",
      "[libx264 @ 0x558ee197b100] i8c dc,h,v,p: 66% 15% 13%  7%\n",
      "[libx264 @ 0x558ee197b100] Weighted P-Frames: Y:0.0% UV:0.0%\n",
      "[libx264 @ 0x558ee197b100] ref P L0: 78.1% 18.5%  3.1%  0.4%\n",
      "[libx264 @ 0x558ee197b100] ref B L0: 74.8% 24.5%  0.7%\n",
      "[libx264 @ 0x558ee197b100] kb/s:610.42\n"
     ]
    }
   ],
   "source": [
    "# Companion axion\n",
    "plot_companion_axion_simulation(N, DX, DT, ALPHA_2D, eta_phi, RADIATION_ERA, 5, MplMp4Plotter, run_time, seed)"
   ]
  },
  {
   "cell_type": "code",
   "execution_count": null,
   "metadata": {},
   "outputs": [],
   "source": []
  }
 ],
 "metadata": {
  "interpreter": {
   "hash": "a22997b3c3d93c8a6baded0673b54027366ecb09a592048fe51a125fc5089cd9"
  },
  "kernelspec": {
   "display_name": "Python 3 (ipykernel)",
   "language": "python",
   "name": "python3"
  },
  "language_info": {
   "codemirror_mode": {
    "name": "ipython",
    "version": 3
   },
   "file_extension": ".py",
   "mimetype": "text/x-python",
   "name": "python",
   "nbconvert_exporter": "python",
   "pygments_lexer": "ipython3",
   "version": "3.10.4"
  }
 },
 "nbformat": 4,
 "nbformat_minor": 2
}
