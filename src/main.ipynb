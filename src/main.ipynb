{
 "cells": [
  {
   "cell_type": "code",
   "execution_count": 1,
   "metadata": {},
   "outputs": [],
   "source": [
    "\n",
    "# Auto-reload internal modules\n",
    "%load_ext autoreload\n",
    "%autoreload 2\n",
    "\n",
    "# External modules\n",
    "import numpy as np\n",
    "\n",
    "# Internal modules\n",
    "from cosmotd.domain_walls import plot_domain_wall_simulation, run_domain_wall_ratio_trials, run_domain_wall_ratio_trials_percentile\n",
    "from cosmotd.cosmic_strings import plot_cosmic_string_simulation\n",
    "from cosmotd.charged_domain_walls import plot_charged_domain_wall_simulation\n",
    "from cosmotd.pentavac import plot_pentavac_simulation\n",
    "from cosmotd.single_axion import plot_single_axion_simulation, run_single_axion_domain_wall_trials\n",
    "from cosmotd.companion_axion import plot_companion_axion_simulation, run_companion_axion_domain_wall_trials\n",
    "from cosmotd.plot import *\n",
    "from cosmotd.parameters import *"
   ]
  },
  {
   "cell_type": "code",
   "execution_count": 2,
   "metadata": {},
   "outputs": [],
   "source": [
    "# Size of simulation grid\n",
    "N = 50\n",
    "# Model parameters\n",
    "beta = 1\n",
    "eta_phi = 1\n",
    "eta_sigma = np.sqrt(3) / 2\n",
    "lam_phi = 2\n",
    "lam_sigma = 2\n",
    "charge_density = 0.1\n",
    "# RNG seed\n",
    "seed = 486761876\n",
    "# Run time\n",
    "run_time = None\n",
    "# Plotter\n",
    "plotter = MplNotebookPlotter"
   ]
  },
  {
   "cell_type": "code",
   "execution_count": 3,
   "metadata": {
    "scrolled": false
   },
   "outputs": [
    {
     "name": "stderr",
     "output_type": "stream",
     "text": [
      "100%|██████████| 4001/4001 [04:48<00:00, 13.85it/s]"
     ]
    },
    {
     "name": "stdout",
     "output_type": "stream",
     "text": [
      "CPU times: total: 57.2 s\n",
      "Wall time: 4min 49s\n"
     ]
    },
    {
     "name": "stderr",
     "output_type": "stream",
     "text": [
      "\n"
     ]
    }
   ],
   "source": [
    "%%time\n",
    "# Domain walls simulation\n",
    "file_name = \"domain_walls_M200_N200_np20228.ctdd\"\n",
    "# file_name = None\n",
    "plot_domain_wall_simulation(200, 200, DX, DT, ALPHA_2D, eta_phi, RADIATION_ERA, 5, MplMultiPlotter, 4000, file_name, 20228)"
   ]
  },
  {
   "cell_type": "code",
   "execution_count": 11,
   "metadata": {},
   "outputs": [
    {
     "name": "stderr",
     "output_type": "stream",
     "text": [
      "100%|██████████| 4001/4001 [04:39<00:00, 14.32it/s]"
     ]
    },
    {
     "name": "stdout",
     "output_type": "stream",
     "text": [
      "CPU times: total: 51.2 s\n",
      "Wall time: 4min 39s\n"
     ]
    },
    {
     "name": "stderr",
     "output_type": "stream",
     "text": [
      "\n"
     ]
    }
   ],
   "source": [
    "%%time\n",
    "# Cosmic strings simulation\n",
    "file_name = \"cosmic_strings_M200_N200_np20228.ctdd\"\n",
    "# file_name = None\n",
    "plot_cosmic_string_simulation(200, 200, DX, DT, ALPHA_2D, 1, RADIATION_ERA, 5, MplMultiPlotter, 4000, file_name, 20228)"
   ]
  },
  {
   "cell_type": "code",
   "execution_count": 11,
   "metadata": {},
   "outputs": [
    {
     "name": "stderr",
     "output_type": "stream",
     "text": [
      "100%|██████████| 2/2 [00:00<00:00, 331.40it/s]"
     ]
    },
    {
     "name": "stdout",
     "output_type": "stream",
     "text": [
      "CPU times: total: 141 ms\n",
      "Wall time: 150 ms\n"
     ]
    },
    {
     "name": "stderr",
     "output_type": "stream",
     "text": [
      "\n"
     ]
    }
   ],
   "source": [
    "%%time\n",
    "# Charged domain walls simulation\n",
    "# file_name = \"charged_domain_walls_rho0.1_M200_N200_np23213241.ctdd\"\n",
    "file_name = None\n",
    "plot_charged_domain_wall_simulation(\n",
    "    200,\n",
    "    200,\n",
    "    DX,\n",
    "    DT,\n",
    "    ALPHA_2D,\n",
    "    beta,\n",
    "    eta_phi,\n",
    "    eta_sigma,\n",
    "    lam_phi,\n",
    "    lam_sigma,\n",
    "    charge_density,\n",
    "    RADIATION_ERA,\n",
    "    Plotter,\n",
    "    1,\n",
    "    file_name,\n",
    "    20228\n",
    ")"
   ]
  },
  {
   "cell_type": "code",
   "execution_count": 12,
   "metadata": {},
   "outputs": [
    {
     "name": "stderr",
     "output_type": "stream",
     "text": [
      "100%|██████████| 1001/1001 [00:34<00:00, 29.07it/s]"
     ]
    },
    {
     "name": "stdout",
     "output_type": "stream",
     "text": [
      "CPU times: total: 34.2 s\n",
      "Wall time: 34.6 s\n"
     ]
    },
    {
     "name": "stderr",
     "output_type": "stream",
     "text": [
      "\n"
     ]
    }
   ],
   "source": [
    "%%time\n",
    "# Pentavac model simulation\n",
    "file_name = None\n",
    "epsilon = 0.1\n",
    "plot_pentavac_simulation(200, 200, DX, DT, ALPHA_2D, epsilon, RADIATION_ERA, Plotter, run_time, file_name, 20228)"
   ]
  },
  {
   "cell_type": "code",
   "execution_count": 14,
   "metadata": {},
   "outputs": [
    {
     "name": "stdout",
     "output_type": "stream",
     "text": [
      "Loading field from single_axion_M300_N300_np20228.ctdd...\n"
     ]
    },
    {
     "name": "stderr",
     "output_type": "stream",
     "text": [
      " 68%|██████▊   | 4110/6001 [04:47<02:14, 14.07it/s]e:\\UniversityGitHub\\2022HonoursProject\\src\\cosmotd\\single_axion.py:70: RuntimeWarning: overflow encountered in square\n",
      "  lam * (real_field**2 + imaginary_field**2 - eta**2) * real_field\n",
      "e:\\UniversityGitHub\\2022HonoursProject\\src\\cosmotd\\single_axion.py:81: RuntimeWarning: overflow encountered in square\n",
      "  / (real_field**2 + imaginary_field**2)\n",
      "e:\\UniversityGitHub\\2022HonoursProject\\src\\cosmotd\\single_axion.py:127: RuntimeWarning: overflow encountered in square\n",
      "  lam * (real_field**2 + imaginary_field**2 - eta**2) * imaginary_field\n",
      "e:\\UniversityGitHub\\2022HonoursProject\\src\\cosmotd\\single_axion.py:138: RuntimeWarning: overflow encountered in square\n",
      "  / (real_field**2 + imaginary_field**2)\n",
      "e:\\UniversityGitHub\\2022HonoursProject\\src\\cosmotd\\single_axion.py:75: RuntimeWarning: invalid value encountered in true_divide\n",
      "  2\n",
      "e:\\UniversityGitHub\\2022HonoursProject\\src\\cosmotd\\single_axion.py:132: RuntimeWarning: invalid value encountered in true_divide\n",
      "  2\n",
      " 69%|██████▉   | 4144/6001 [04:49<02:12, 13.98it/s]e:\\UniversityGitHub\\2022HonoursProject\\src\\cosmotd\\single_axion.py:70: RuntimeWarning: overflow encountered in multiply\n",
      "  lam * (real_field**2 + imaginary_field**2 - eta**2) * real_field\n",
      "e:\\UniversityGitHub\\2022HonoursProject\\src\\cosmotd\\single_axion.py:127: RuntimeWarning: overflow encountered in multiply\n",
      "  lam * (real_field**2 + imaginary_field**2 - eta**2) * imaginary_field\n",
      "100%|██████████| 6001/6001 [06:47<00:00, 14.73it/s]\n"
     ]
    },
    {
     "name": "stdout",
     "output_type": "stream",
     "text": [
      "CPU times: total: 6min 45s\n",
      "Wall time: 6min 47s\n"
     ]
    },
    {
     "data": {
      "text/plain": [
       "0.0"
      ]
     },
     "execution_count": 14,
     "metadata": {},
     "output_type": "execute_result"
    }
   ],
   "source": [
    "%%time\n",
    "file_name = \"single_axion_M300_N300_np20228.ctdd\"\n",
    "# Single axion\n",
    "lam = 5\n",
    "color_anomaly = 3\n",
    "K = 0.025\n",
    "t0 = 75\n",
    "growth = 2\n",
    "plot_single_axion_simulation(\n",
    "    300,\n",
    "    300,\n",
    "    DX,\n",
    "    DT,\n",
    "    ALPHA_2D,\n",
    "    eta_phi,\n",
    "    RADIATION_ERA,\n",
    "    lam,\n",
    "    color_anomaly,\n",
    "    K,\n",
    "    t0,\n",
    "    growth,\n",
    "    Plotter,\n",
    "    6000,\n",
    "    file_name,\n",
    "    20228)"
   ]
  },
  {
   "cell_type": "code",
   "execution_count": 10,
   "metadata": {},
   "outputs": [
    {
     "name": "stderr",
     "output_type": "stream",
     "text": [
      " 91%|█████████ | 3624/4001 [11:33<01:05,  5.77it/s]e:\\UniversityGitHub\\2022HonoursProject\\src\\cosmotd\\companion_axion.py:98: RuntimeWarning: overflow encountered in square\n",
      "  lam * (phi_real**2 + phi_imaginary**2 - eta**2) * phi_real\n",
      "e:\\UniversityGitHub\\2022HonoursProject\\src\\cosmotd\\companion_axion.py:111: RuntimeWarning: overflow encountered in square\n",
      "  / (phi_real**2 + phi_imaginary**2)\n",
      "e:\\UniversityGitHub\\2022HonoursProject\\src\\cosmotd\\companion_axion.py:124: RuntimeWarning: overflow encountered in square\n",
      "  / (phi_real**2 + phi_imaginary**2)\n",
      "e:\\UniversityGitHub\\2022HonoursProject\\src\\cosmotd\\companion_axion.py:195: RuntimeWarning: overflow encountered in square\n",
      "  lam * (phi_real**2 + phi_imaginary**2 - eta**2) * phi_imaginary\n",
      "e:\\UniversityGitHub\\2022HonoursProject\\src\\cosmotd\\companion_axion.py:208: RuntimeWarning: overflow encountered in square\n",
      "  / (phi_real**2 + phi_imaginary**2)\n",
      "e:\\UniversityGitHub\\2022HonoursProject\\src\\cosmotd\\companion_axion.py:221: RuntimeWarning: overflow encountered in square\n",
      "  / (phi_real**2 + phi_imaginary**2)\n",
      " 91%|█████████ | 3626/4001 [11:34<01:03,  5.88it/s]e:\\UniversityGitHub\\2022HonoursProject\\src\\cosmotd\\companion_axion.py:102: RuntimeWarning: invalid value encountered in true_divide\n",
      "  2\n",
      "e:\\UniversityGitHub\\2022HonoursProject\\src\\cosmotd\\companion_axion.py:115: RuntimeWarning: invalid value encountered in true_divide\n",
      "  2\n",
      "e:\\UniversityGitHub\\2022HonoursProject\\src\\cosmotd\\companion_axion.py:199: RuntimeWarning: invalid value encountered in true_divide\n",
      "  2\n",
      "e:\\UniversityGitHub\\2022HonoursProject\\src\\cosmotd\\companion_axion.py:212: RuntimeWarning: invalid value encountered in true_divide\n",
      "  2\n",
      " 91%|█████████ | 3650/4001 [11:38<01:01,  5.70it/s]e:\\UniversityGitHub\\2022HonoursProject\\src\\cosmotd\\companion_axion.py:98: RuntimeWarning: overflow encountered in multiply\n",
      "  lam * (phi_real**2 + phi_imaginary**2 - eta**2) * phi_real\n",
      "e:\\UniversityGitHub\\2022HonoursProject\\src\\cosmotd\\companion_axion.py:195: RuntimeWarning: overflow encountered in multiply\n",
      "  lam * (phi_real**2 + phi_imaginary**2 - eta**2) * phi_imaginary\n",
      " 91%|█████████▏| 3653/4001 [11:38<00:59,  5.82it/s]e:\\UniversityGitHub\\2022HonoursProject\\src\\cosmotd\\companion_axion.py:98: RuntimeWarning: overflow encountered in add\n",
      "  lam * (phi_real**2 + phi_imaginary**2 - eta**2) * phi_real\n",
      "e:\\UniversityGitHub\\2022HonoursProject\\src\\cosmotd\\companion_axion.py:111: RuntimeWarning: overflow encountered in add\n",
      "  / (phi_real**2 + phi_imaginary**2)\n",
      "e:\\UniversityGitHub\\2022HonoursProject\\src\\cosmotd\\companion_axion.py:124: RuntimeWarning: overflow encountered in add\n",
      "  / (phi_real**2 + phi_imaginary**2)\n",
      "e:\\UniversityGitHub\\2022HonoursProject\\src\\cosmotd\\companion_axion.py:195: RuntimeWarning: overflow encountered in add\n",
      "  lam * (phi_real**2 + phi_imaginary**2 - eta**2) * phi_imaginary\n",
      "e:\\UniversityGitHub\\2022HonoursProject\\src\\cosmotd\\companion_axion.py:208: RuntimeWarning: overflow encountered in add\n",
      "  / (phi_real**2 + phi_imaginary**2)\n",
      "e:\\UniversityGitHub\\2022HonoursProject\\src\\cosmotd\\companion_axion.py:221: RuntimeWarning: overflow encountered in add\n",
      "  / (phi_real**2 + phi_imaginary**2)\n",
      "100%|██████████| 4001/4001 [12:57<00:00,  5.15it/s]"
     ]
    },
    {
     "name": "stdout",
     "output_type": "stream",
     "text": [
      "CPU times: total: 12min 31s\n",
      "Wall time: 12min 58s\n"
     ]
    },
    {
     "name": "stderr",
     "output_type": "stream",
     "text": [
      "\n"
     ]
    },
    {
     "data": {
      "text/plain": [
       "(0.0, 0.0)"
      ]
     },
     "execution_count": 10,
     "metadata": {},
     "output_type": "execute_result"
    }
   ],
   "source": [
    "%%time\n",
    "# 3621 is the start of the instability\n",
    "file_name = \"companion_axion_M300_N300_np20228.ctdd\"\n",
    "# Companion axion\n",
    "lam = 5\n",
    "# n = 3\n",
    "# n_prime = 1 / 2\n",
    "# m = 13 / 2\n",
    "# m_prime = 3 / 2\n",
    "n = 3\n",
    "n_prime = 1\n",
    "m = 1\n",
    "m_prime = 1\n",
    "kappa = 0.04\n",
    "# This the original value of K (0.001 * lam = 0.005), however it seems to produce numerical artifacts\n",
    "# K = 0.001 * lam\n",
    "# Testing values of K\n",
    "K = 0.025\n",
    "t0 = 75\n",
    "n_growth = 2\n",
    "m_growth = 2\n",
    "s0 = t0\n",
    "plot_companion_axion_simulation(\n",
    "    300,\n",
    "    300,\n",
    "    DX,\n",
    "    DT,\n",
    "    ALPHA_2D,\n",
    "    eta_phi,\n",
    "    RADIATION_ERA,\n",
    "    lam,\n",
    "    n,\n",
    "    n_prime,\n",
    "    m,\n",
    "    m_prime,\n",
    "    K,\n",
    "    kappa,\n",
    "    t0,\n",
    "    s0,\n",
    "    n_growth,\n",
    "    m_growth,\n",
    "    MplMultiPlotter,\n",
    "    4000,\n",
    "    file_name,\n",
    "    seed=20228)"
   ]
  },
  {
   "cell_type": "markdown",
   "metadata": {},
   "source": [
    "# Dispersion #\n",
    "\n",
    "This is an experimental thing."
   ]
  },
  {
   "cell_type": "code",
   "execution_count": null,
   "metadata": {},
   "outputs": [],
   "source": [
    "%%time\n",
    "# Domain wall ratio as a function of width - standard domain wall simulation\n",
    "test_widths = np.linspace(1, 10, 50)\n",
    "dw_ratios_mean = np.zeros(test_widths.shape)\n",
    "dw_ratios_error = np.zeros(test_widths.shape)\n",
    "seeds_given = None\n",
    "num_trials = 10\n",
    "\n",
    "for idx, current_width in enumerate(test_widths):\n",
    "    dw_ratios, seeds_used = run_domain_wall_ratio_trials(300, 300, DX, DT, ALPHA_2D, eta_phi, RADIATION_ERA, current_width, num_trials, None, seeds_given)\n",
    "    dw_ratios_mean[idx] = np.mean(dw_ratios)\n",
    "    dw_ratios_error[idx] = np.std(dw_ratios) / np.sqrt(num_trials)\n",
    "    if seeds_given is None:\n",
    "        seeds_given = seeds_used\n",
    "\n",
    "from matplotlib import pyplot as plt\n",
    "\n",
    "%matplotlib inline\n",
    "\n",
    "fig = plt.figure()\n",
    "ax = fig.add_subplot()\n",
    "\n",
    "ax.errorbar(test_widths, dw_ratios_mean, yerr=dw_ratios_error)\n",
    "ax.set_xlabel(r\"Wall width$\")\n",
    "ax.set_ylabel(r\"Domain wall ratio\")"
   ]
  },
  {
   "cell_type": "code",
   "execution_count": null,
   "metadata": {},
   "outputs": [],
   "source": [
    "%%time\n",
    "from matplotlib import pyplot as plt\n",
    "%matplotlib inline\n",
    "# Domain wall ratio as a function of width - standard domain wall simulation\n",
    "test_widths = np.linspace(1, 10, 5)\n",
    "test_widths_str = [f\"width={num:.2f}\" for num in test_widths]\n",
    "dw_ratios_mean = np.zeros(test_widths.shape)\n",
    "dw_ratios_error = np.zeros(test_widths.shape)\n",
    "seeds_given = None\n",
    "num_trials = 50\n",
    "\n",
    "fig = plt.figure()\n",
    "fig.set_size_inches(14, 12)\n",
    "ax = fig.add_subplot()\n",
    "ax.set_xlabel(r\"Time\")\n",
    "ax.set_ylabel(r\"Domain wall ratio\")\n",
    "\n",
    "for idx, current_width in enumerate(test_widths):\n",
    "    dw_ratios_typical, dw_ratios_min, dw_ratios_max, seeds_used = run_domain_wall_ratio_trials_percentile(300, 300, DX, DT, ALPHA_2D, eta_phi, RADIATION_ERA, current_width, num_trials, None, seeds_given)\n",
    "    time_span = np.linspace(0, DT * len(dw_ratios_typical), len(dw_ratios_typical))\n",
    "    ax.fill_between(time_span, dw_ratios_min, dw_ratios_max)\n",
    "    ax.plot(time_span, dw_ratios_typical, label=\"_nolegend_\")\n",
    "    if seeds_given is None:\n",
    "        seeds_given = seeds_used\n",
    "ax.legend(test_widths_str)\n",
    "\n",
    "\n",
    "\n"
   ]
  },
  {
   "cell_type": "code",
   "execution_count": null,
   "metadata": {},
   "outputs": [],
   "source": [
    "%%time\n",
    "# Single axion\n",
    "lam = 5\n",
    "color_anomalies = [1, 2, 3, 4, 5]\n",
    "K = 0.001 * lam\n",
    "t0 = 750 * DT\n",
    "growth = 2\n",
    "\n",
    "\n",
    "for idx, color_anomaly in enumerate(color_anomalies):\n",
    "    dw_ratios, seeds_used = run_single_axion_domain_wall_trials(300, 300, DX, DT, ALPHA_2D, eta_phi, RADIATION_ERA, lam, color_anomaly, K, t0, growth, num_trials, 6000, seeds_given)\n",
    "    dw_ratios_mean[idx] = np.mean(dw_ratios)\n",
    "    dw_ratios_error[idx] = np.std(dw_ratios) / np.sqrt(num_trials)\n",
    "    if seeds_given is None:\n",
    "        seeds_given = seeds_used"
   ]
  },
  {
   "cell_type": "code",
   "execution_count": null,
   "metadata": {},
   "outputs": [],
   "source": [
    "from matplotlib import pyplot as plt\n",
    "\n",
    "%matplotlib inline\n",
    "\n",
    "fig = plt.figure()\n",
    "ax = fig.add_subplot()\n",
    "\n",
    "ax.plot(color_anomalies, dw_ratios_mean)\n",
    "ax.set_xlabel(r\"Color Anomaly\")\n",
    "ax.set_ylabel(r\"Domain wall ratio\")"
   ]
  },
  {
   "cell_type": "code",
   "execution_count": null,
   "metadata": {},
   "outputs": [],
   "source": [
    "%%time\n",
    "# Companion axion\n",
    "lam = 5\n",
    "n = [3, 1, 1, 1]\n",
    "n_prime = [1, 3, 1, 1]\n",
    "m = [1, 1, 3, 1]\n",
    "m_prime = [1, 1, 1, 3]\n",
    "kappa = 0.04\n",
    "K = 0.001 * lam\n",
    "t0 = 750 * DT\n",
    "n_growth = 2\n",
    "m_growth = 2\n",
    "s0 = t0\n",
    "\n",
    "phi_dw_ratios_mean = np.zeros(len(n))\n",
    "phi_dw_ratios_error = np.zeros(len(n))\n",
    "psi_dw_ratios_mean = np.zeros(len(n))\n",
    "psi_dw_ratios_error = np.zeros(len(n))\n",
    "num_trials = 5\n",
    "seeds_given = None\n",
    "\n",
    "\n",
    "for idx, (current_n , current_n_prime, current_m, current_m_prime) in enumerate(zip(n, n_prime, m, m_prime)):\n",
    "    phi_dw_ratios, psi_dw_ratios, seeds_used = run_companion_axion_domain_wall_trials(300, 300, DX, DT, ALPHA_2D, eta_phi, RADIATION_ERA, lam, current_n, current_n_prime, current_m, current_m_prime, K, kappa, t0, s0, n_growth, m_growth, num_trials, 6000, seeds_given)\n",
    "    phi_dw_ratios_mean[idx] = np.mean(phi_dw_ratios)\n",
    "    phi_dw_ratios_error[idx] = np.std(phi_dw_ratios) / np.sqrt(num_trials)\n",
    "    psi_dw_ratios_mean[idx] = np.mean(psi_dw_ratios)\n",
    "    psi_dw_ratios_error[idx] = np.std(psi_dw_ratios) / np.sqrt(num_trials)\n",
    "    if seeds_given is None:\n",
    "        seeds_given = seeds_used\n",
    "\n",
    "\n"
   ]
  },
  {
   "cell_type": "code",
   "execution_count": null,
   "metadata": {},
   "outputs": [],
   "source": []
  }
 ],
 "metadata": {
  "interpreter": {
   "hash": "c0a96131aabe2583d9c3abb62b06c5772221bd7af478d25ee32d59d849181aeb"
  },
  "kernelspec": {
   "display_name": "Python 3 (ipykernel)",
   "language": "python",
   "name": "python3"
  },
  "language_info": {
   "codemirror_mode": {
    "name": "ipython",
    "version": 3
   },
   "file_extension": ".py",
   "mimetype": "text/x-python",
   "name": "python",
   "nbconvert_exporter": "python",
   "pygments_lexer": "ipython3",
   "version": "3.10.2"
  }
 },
 "nbformat": 4,
 "nbformat_minor": 2
}
