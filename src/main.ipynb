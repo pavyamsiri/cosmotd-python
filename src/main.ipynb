{
 "cells": [
  {
   "cell_type": "code",
   "execution_count": 12,
   "metadata": {},
   "outputs": [
    {
     "name": "stdout",
     "output_type": "stream",
     "text": [
      "The autoreload extension is already loaded. To reload it, use:\n",
      "  %reload_ext autoreload\n"
     ]
    }
   ],
   "source": [
    "# Auto-reload internal modules\n",
    "%load_ext autoreload\n",
    "%autoreload 2\n",
    "\n",
    "# External modules\n",
    "import numpy as np\n",
    "\n",
    "# Internal modules\n",
    "from cosmotd.domain_walls import run_domain_wall_simulation\n",
    "from cosmotd.cosmic_strings import run_cosmic_string_simulation\n",
    "from cosmotd.charged_domain_walls import run_charged_domain_walls_simulation\n",
    "from cosmotd.junctions import run_junction_simulation\n",
    "from cosmotd.plot import MplMp4Plotter, MplPngPlotter, MplNotebookPlotter, MockPlotter\n",
    "from cosmotd.parameters import *"
   ]
  },
  {
   "cell_type": "code",
   "execution_count": 15,
   "metadata": {},
   "outputs": [],
   "source": [
    "# Size of simulation grid\n",
    "N = 50\n",
    "# Model parameters\n",
    "beta = 1\n",
    "eta_phi = 1\n",
    "eta_sigma = np.sqrt(3) / 2\n",
    "lam_phi = 2\n",
    "lam_sigma = 2\n",
    "charge_density = 0.1\n",
    "# RNG seed\n",
    "seed = 23213241\n",
    "# Run time\n",
    "run_time = None"
   ]
  },
  {
   "cell_type": "code",
   "execution_count": 16,
   "metadata": {},
   "outputs": [
    {
     "name": "stderr",
     "output_type": "stream",
     "text": [
      "100%|██████████| 250/250 [01:59<00:00,  2.09it/s]\n"
     ]
    }
   ],
   "source": [
    "# Domain walls simulation\n",
    "run_domain_wall_simulation(N, DX, DT, ALPHA_2D, eta_phi, RADIATION_ERA, 5, MplMp4Plotter, seed, run_time)"
   ]
  },
  {
   "cell_type": "code",
   "execution_count": 19,
   "metadata": {},
   "outputs": [
    {
     "name": "stderr",
     "output_type": "stream",
     "text": [
      "100%|██████████| 250/250 [01:14<00:00,  3.33it/s]\n"
     ]
    }
   ],
   "source": [
    "# Cosmic strings simulation\n",
    "run_cosmic_string_simulation(N, DX, DT, ALPHA_2D, eta_phi, RADIATION_ERA, 5, MplMp4Plotter, seed, run_time)"
   ]
  },
  {
   "cell_type": "code",
   "execution_count": 20,
   "metadata": {},
   "outputs": [
    {
     "name": "stderr",
     "output_type": "stream",
     "text": [
      "100%|██████████| 250/250 [01:46<00:00,  2.35it/s]\n"
     ]
    }
   ],
   "source": [
    "# Charged domain walls simulation\n",
    "run_charged_domain_walls_simulation(\n",
    "    N, DX, DT, ALPHA_2D, beta, eta_phi, eta_sigma, lam_phi, lam_sigma, charge_density, RADIATION_ERA, MplMp4Plotter, seed, run_time\n",
    ")"
   ]
  },
  {
   "cell_type": "code",
   "execution_count": 21,
   "metadata": {},
   "outputs": [
    {
     "name": "stderr",
     "output_type": "stream",
     "text": [
      "100%|██████████| 125/125 [01:05<00:00,  1.90it/s]\n"
     ]
    }
   ],
   "source": [
    "# Pentavac model simulation with X-type and Y-type junctions\n",
    "run_junction_simulation(N, 0.5, 0.1, ALPHA_2D, 0.1, RADIATION_ERA, MplMp4Plotter, seed, run_time)"
   ]
  },
  {
   "cell_type": "code",
   "execution_count": null,
   "metadata": {},
   "outputs": [],
   "source": []
  }
 ],
 "metadata": {
  "interpreter": {
   "hash": "a22997b3c3d93c8a6baded0673b54027366ecb09a592048fe51a125fc5089cd9"
  },
  "kernelspec": {
   "display_name": "Python 3 (ipykernel)",
   "language": "python",
   "name": "python3"
  },
  "language_info": {
   "codemirror_mode": {
    "name": "ipython",
    "version": 3
   },
   "file_extension": ".py",
   "mimetype": "text/x-python",
   "name": "python",
   "nbconvert_exporter": "python",
   "pygments_lexer": "ipython3",
   "version": "3.10.2"
  }
 },
 "nbformat": 4,
 "nbformat_minor": 2
}
