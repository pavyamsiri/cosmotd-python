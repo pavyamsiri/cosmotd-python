{
 "cells": [
  {
   "cell_type": "code",
   "execution_count": 1,
   "metadata": {},
   "outputs": [],
   "source": [
    "# Auto-reload internal modules\n",
    "%load_ext autoreload\n",
    "%autoreload 2\n",
    "\n",
    "# External modules\n",
    "import numpy as np\n",
    "\n",
    "# Internal modules\n",
    "from cosmotd.domain_walls import run_domain_wall_simulation\n",
    "from cosmotd.cosmic_strings import run_cosmic_string_simulation\n",
    "from cosmotd.charged_domain_walls import run_charged_domain_walls_simulation\n",
    "from cosmotd.pentavac import run_pentavac_simulation\n",
    "from cosmotd.plot import *\n",
    "from cosmotd.parameters import *"
   ]
  },
  {
   "cell_type": "code",
   "execution_count": 10,
   "metadata": {},
   "outputs": [],
   "source": [
    "\n",
    "# Size of simulation grid\n",
    "N = 50\n",
    "# Model parameters\n",
    "beta = 1\n",
    "eta_phi = 1\n",
    "eta_sigma = np.sqrt(3) / 2\n",
    "lam_phi = 2\n",
    "lam_sigma = 2\n",
    "charge_density = 0.1\n",
    "# RNG seed\n",
    "seed = 23213241\n",
    "# Run time\n",
    "run_time = None\n",
    "# Plotter\n",
    "plotter = MplMp4Plotter"
   ]
  },
  {
   "cell_type": "code",
   "execution_count": 3,
   "metadata": {},
   "outputs": [
    {
     "name": "stderr",
     "output_type": "stream",
     "text": [
      "100%|██████████| 250/250 [00:00<00:00, 1602.17it/s]\n"
     ]
    }
   ],
   "source": [
    "# Domain walls simulation\n",
    "run_domain_wall_simulation(N, DX, DT, ALPHA_2D, eta_phi, RADIATION_ERA, 5, plotter, seed, run_time)"
   ]
  },
  {
   "cell_type": "code",
   "execution_count": 4,
   "metadata": {},
   "outputs": [
    {
     "name": "stderr",
     "output_type": "stream",
     "text": [
      "100%|██████████| 250/250 [00:01<00:00, 199.50it/s]\n"
     ]
    }
   ],
   "source": [
    "# Cosmic strings simulation\n",
    "run_cosmic_string_simulation(N, DX, DT, ALPHA_2D, eta_phi, RADIATION_ERA, 5, plotter, seed, run_time)"
   ]
  },
  {
   "cell_type": "code",
   "execution_count": 5,
   "metadata": {},
   "outputs": [
    {
     "name": "stderr",
     "output_type": "stream",
     "text": [
      "100%|██████████| 250/250 [00:00<00:00, 3622.34it/s]\n"
     ]
    }
   ],
   "source": [
    "# Charged domain walls simulation\n",
    "run_charged_domain_walls_simulation(\n",
    "    N, DX, DT, ALPHA_2D, beta, eta_phi, eta_sigma, lam_phi, lam_sigma, charge_density, RADIATION_ERA, plotter, seed, run_time\n",
    ")"
   ]
  },
  {
   "cell_type": "code",
   "execution_count": 6,
   "metadata": {},
   "outputs": [
    {
     "name": "stderr",
     "output_type": "stream",
     "text": [
      "100%|██████████| 125/125 [00:00<00:00, 142.69it/s]\n"
     ]
    }
   ],
   "source": [
    "# Pentavac model simulation with X-type and Y-type junctions\n",
    "epsilon = 0.1\n",
    "run_pentavac_simulation(N, 0.5, 0.1, ALPHA_2D, epsilon, RADIATION_ERA, plotter, seed, run_time)"
   ]
  },
  {
   "cell_type": "code",
   "execution_count": 7,
   "metadata": {},
   "outputs": [],
   "source": [
    "from cosmotd.domain_walls_v2 import run_domain_wall_simulation_yield\n",
    "from cosmotd.fields import calculate_energy\n",
    "from cosmotd.domain_walls_v2 import potential_dw\n",
    "from cosmotd.domain_wall_algorithms import find_domain_walls_convolve_diagonal"
   ]
  },
  {
   "cell_type": "code",
   "execution_count": 11,
   "metadata": {},
   "outputs": [
    {
     "name": "stderr",
     "output_type": "stream",
     "text": [
      "100%|██████████| 250/250 [01:52<00:00,  2.22it/s]\n"
     ]
    }
   ],
   "source": [
    "# Set up plotting backend\n",
    "plot_api = plotter(\n",
    "    PlotterSettings(\n",
    "        title=\"Domain wall simulation\", nrows=1, ncols=3, figsize=(2 * 640, 480)\n",
    "    )\n",
    ")\n",
    "draw_settings = ImageSettings(vmin=-1.1 * eta_phi, vmax=1.1 * eta_phi, cmap=\"viridis\")\n",
    "highlight_settings = ImageSettings(vmin=-1, vmax=1, cmap=\"seismic\")\n",
    "line_settings = PlotSettings(color=\"#1f77b4\", linestyle=\"-\")\n",
    "\n",
    "# Set up arrays\n",
    "# Initialise wall count\n",
    "iterations = list(range(int(0.5 * N * DX / DT)))\n",
    "wall_count = np.empty(int(0.5 * N * DX / DT))\n",
    "wall_count.fill(np.nan)\n",
    "# Energies\n",
    "ratios = np.empty(int(0.5 * N * DX / DT))\n",
    "ratios.fill(np.nan)\n",
    "\n",
    "\n",
    "sim_generator = run_domain_wall_simulation_yield(N, DX, DT, ALPHA_2D, eta_phi, RADIATION_ERA, 5, seed, run_time)\n",
    "\n",
    "for i, (phi, phidot, phidotdot) in enumerate(sim_generator):\n",
    "    # Find domain walls\n",
    "    walls = find_domain_walls_convolve_diagonal(phi)\n",
    "    wall_count[i] = np.count_nonzero(walls) / 2\n",
    "\n",
    "    # Calculate the energy\n",
    "    energy = calculate_energy(phi, phidot, potential_dw(phi, eta_phi, lam = 2 * np.pi**2 / 5**2), DX)\n",
    "    masked_walls = np.ma.masked_values(walls, 0)\n",
    "    ratio = np.sum(\n",
    "        np.ma.masked_where(np.ma.getmask(masked_walls), energy)\n",
    "    ) / np.sum(energy)\n",
    "    ratios[i] = ratio\n",
    "\n",
    "    # Plot\n",
    "    plot_api.reset()\n",
    "    # Real field\n",
    "    plot_api.draw_image(phi, 1, draw_settings)\n",
    "    plot_api.set_title(r\"$\\phi$\", 1)\n",
    "    plot_api.set_axes_labels(r\"$x$\", r\"$y$\", 1)\n",
    "    # Highlight walls\n",
    "    plot_api.draw_image(np.ma.masked_values(walls, 0), 2, highlight_settings)\n",
    "    plot_api.set_title(r\"Domain walls\", 2)\n",
    "    plot_api.set_axes_labels(r\"$x$\", r\"$y$\", 2)\n",
    "    # Plot energy\n",
    "    plot_api.draw_plot(iterations, ratios, 3, line_settings)\n",
    "    plot_api.set_title(\"Domain wall energy\", 3)\n",
    "    plot_api.set_axes_labels(r\"Iteration $i$\", r\"$\\frac{H_{DW}}{H}$\", 3)\n",
    "    plot_api.set_axes_limits(0, int(0.5 * N * DX / DT)), 0, 1, 3)\n",
    "    plot_api.flush()\n",
    "plot_api.close()"
   ]
  },
  {
   "cell_type": "code",
   "execution_count": null,
   "metadata": {},
   "outputs": [],
   "source": []
  }
 ],
 "metadata": {
  "interpreter": {
   "hash": "a22997b3c3d93c8a6baded0673b54027366ecb09a592048fe51a125fc5089cd9"
  },
  "kernelspec": {
   "display_name": "Python 3 (ipykernel)",
   "language": "python",
   "name": "python3"
  },
  "language_info": {
   "codemirror_mode": {
    "name": "ipython",
    "version": 3
   },
   "file_extension": ".py",
   "mimetype": "text/x-python",
   "name": "python",
   "nbconvert_exporter": "python",
   "pygments_lexer": "ipython3",
   "version": "3.10.2"
  }
 },
 "nbformat": 4,
 "nbformat_minor": 2
}
