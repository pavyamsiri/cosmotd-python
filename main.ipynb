{
 "cells": [
  {
   "cell_type": "code",
   "execution_count": 1,
   "metadata": {},
   "outputs": [],
   "source": [
    "\"\"\"\n",
    "---------------------\n",
    "Model Parameters\n",
    "\n",
    "\"\"\"\n",
    "# PRS trick parameter\n",
    "alpha = 2\n",
    "# Cosmological era\n",
    "era = 1 \n",
    "# Width of domain wall (lambda = 2*pi^2/w^2)\n",
    "w = 5\n",
    "\n",
    "\"\"\"\n",
    "-------------------------\n",
    "Discretisation Parameters\n",
    "-------------------------\n",
    "\"\"\"\n",
    "# Size of the simulation grid\n",
    "N = 1000\n",
    "# Spacing between grid points\n",
    "dx = 1.0\n",
    "# Time interval\n",
    "dt = 0.1"
   ]
  },
  {
   "cell_type": "code",
   "execution_count": 2,
   "metadata": {},
   "outputs": [],
   "source": [
    "from charged_domain_walls import run_charged_domain_walls_simulation\n",
    "from plot import MplMp4Plotter, MplPngPlotter, MplNotebookPlotter\n",
    "import numpy as np"
   ]
  },
  {
   "cell_type": "code",
   "execution_count": 3,
   "metadata": {},
   "outputs": [
    {
     "name": "stderr",
     "output_type": "stream",
     "text": [
      "100%|█████████████████████████████████████████████████████████████████████████████████████████████████████████████████████████████████████████████████████████████████| 100/100 [00:55<00:00,  1.80it/s]\n"
     ]
    }
   ],
   "source": [
    "charge_density = 0.1\n",
    "\n",
    "# Charged domain walls simulation\n",
    "run_charged_domain_walls_simulation(\n",
    "    200, dx, dt, alpha, 1, 1, np.sqrt(3)/2, 2, 2, charge_density, era, MplMp4Plotter, None, 100\n",
    ")"
   ]
  },
  {
   "cell_type": "code",
   "execution_count": null,
   "metadata": {},
   "outputs": [],
   "source": []
  }
 ],
 "metadata": {
  "interpreter": {
   "hash": "a22997b3c3d93c8a6baded0673b54027366ecb09a592048fe51a125fc5089cd9"
  },
  "kernelspec": {
   "display_name": "Python 3 (ipykernel)",
   "language": "python",
   "name": "python3"
  },
  "language_info": {
   "codemirror_mode": {
    "name": "ipython",
    "version": 3
   },
   "file_extension": ".py",
   "mimetype": "text/x-python",
   "name": "python",
   "nbconvert_exporter": "python",
   "pygments_lexer": "ipython3",
   "version": "3.10.2"
  }
 },
 "nbformat": 4,
 "nbformat_minor": 2
}
